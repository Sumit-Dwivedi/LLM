{
 "cells": [
  {
   "cell_type": "code",
   "execution_count": 21,
   "id": "68c98fca-b893-4da2-86ad-fd71619b59b9",
   "metadata": {},
   "outputs": [
    {
     "name": "stdout",
     "output_type": "stream",
     "text": [
      "cuda\n"
     ]
    }
   ],
   "source": [
    "import torch\n",
    "import torch.nn as nn\n",
    "from torch.nn import functional as F\n",
    "device= \"cuda\" if torch.cuda.is_available() else \"cpu\"\n",
    "print(device)\n",
    "blockSize= 8\n",
    "batchSize= 4\n",
    "maxIters=10000\n",
    "evalIters= 250\n",
    "learningRate=3e-4\n",
    "dropout= 0.2"
   ]
  },
  {
   "cell_type": "code",
   "execution_count": 2,
   "id": "077c9e7a-6153-48b3-a4d3-0ad8dae44a21",
   "metadata": {},
   "outputs": [
    {
     "name": "stdout",
     "output_type": "stream",
     "text": [
      "['\\n', ' ', '!', '\"', '&', \"'\", '(', ')', '*', ',', '-', '.', '0', '1', '2', '3', '4', '5', '6', '7', '8', '9', ':', ';', '?', 'A', 'B', 'C', 'D', 'E', 'F', 'G', 'H', 'I', 'J', 'K', 'L', 'M', 'N', 'O', 'P', 'Q', 'R', 'S', 'T', 'U', 'V', 'W', 'X', 'Y', 'Z', '[', ']', '_', 'a', 'b', 'c', 'd', 'e', 'f', 'g', 'h', 'i', 'j', 'k', 'l', 'm', 'n', 'o', 'p', 'q', 'r', 's', 't', 'u', 'v', 'w', 'x', 'y', 'z', '\\ufeff']\n"
     ]
    }
   ],
   "source": [
    "with open(\"wizard_of_oz.txt\",\"r\", encoding =\"UTF-8\") as f:\n",
    "    text=f.read()\n",
    "character=sorted(set(text))\n",
    "vocab_size = len(character)\n",
    "print(character)"
   ]
  },
  {
   "cell_type": "code",
   "execution_count": 3,
   "id": "943211a5-0061-406c-b202-7d4113807771",
   "metadata": {},
   "outputs": [],
   "source": [
    "stringToInt={ ch:i for i,ch in enumerate(character)}\n",
    "intToString={ i:ch for i,ch in enumerate(character)}"
   ]
  },
  {
   "cell_type": "code",
   "execution_count": 4,
   "id": "dc6ae057-7dae-44c5-9bee-3e888646ac4b",
   "metadata": {},
   "outputs": [],
   "source": [
    "encode= lambda a : [stringToInt[i] for i in a]\n",
    "decode= lambda a: \"\".join([intToString[i] for i in a])\n"
   ]
  },
  {
   "cell_type": "code",
   "execution_count": 5,
   "id": "d83d1789-75a5-4024-abd3-15353b0ae61a",
   "metadata": {},
   "outputs": [
    {
     "data": {
      "text/plain": [
       "'Sumit'"
      ]
     },
     "execution_count": 5,
     "metadata": {},
     "output_type": "execute_result"
    }
   ],
   "source": [
    "decode(encode(\"Sumit\"))"
   ]
  },
  {
   "cell_type": "code",
   "execution_count": 6,
   "id": "72f00771-d72e-48f9-9a09-adea7767bf3d",
   "metadata": {},
   "outputs": [],
   "source": [
    "data = torch.tensor(encode(text), dtype=torch.long)"
   ]
  },
  {
   "cell_type": "code",
   "execution_count": 7,
   "id": "af3e4f0e-220d-413d-8d01-cb3473e075d1",
   "metadata": {},
   "outputs": [
    {
     "name": "stdout",
     "output_type": "stream",
     "text": [
      "tensor([80, 28, 39, 42, 39, 44, 32, 49,  1, 25, 38, 28,  1, 44, 32, 29,  1, 47,\n",
      "        33, 50, 25, 42, 28,  1, 33, 38,  1, 39, 50,  0,  0,  1,  1, 26, 49,  0,\n",
      "         0,  1,  1, 36, 11,  1, 30, 42, 25, 38, 35,  1, 26, 25, 45, 37,  0,  0,\n",
      "         1,  1, 25, 45, 44, 32, 39, 42,  1, 39, 30,  1, 44, 32, 29,  1, 47, 33,\n",
      "        50, 25, 42, 28,  1, 39, 30,  1, 39, 50,  9,  1, 44, 32, 29,  1, 36, 25,\n",
      "        38, 28,  1, 39, 30,  1, 39, 50,  9,  1, 39, 50, 37, 25,  1, 39, 30,  1,\n",
      "        39, 50,  9,  1, 29, 44, 27, 11,  0,  0,  1,  1, 33, 36, 36, 45, 43, 44,\n",
      "        42, 25, 44, 29, 28,  1, 26, 49,  1, 34, 39, 32, 38,  1, 42, 11,  1, 38,\n",
      "        29, 33, 36, 36,  0,  0,  1,  1, 26, 39, 39, 35, 43,  1, 39, 30,  1, 47,\n",
      "        39, 38, 28, 29, 42,  1, 47, 33, 36, 36, 33, 25, 37,  1, 37, 39, 42, 42,\n",
      "        39, 47,  1,  4,  1, 27, 39, 11,  9,  1, 33, 38, 27, 11,  1, 38, 29, 47,\n",
      "         1, 49])\n"
     ]
    }
   ],
   "source": [
    "print(data[:200])"
   ]
  },
  {
   "cell_type": "code",
   "execution_count": 8,
   "id": "a8e4acd1-6c0c-40dc-8a24-13e4b83e20d3",
   "metadata": {},
   "outputs": [],
   "source": [
    "n=int(0.8* len(data))\n",
    "trainData=data[:n]\n",
    "valData=data[n:]"
   ]
  },
  {
   "cell_type": "code",
   "execution_count": 9,
   "id": "b3f097f0-cac2-41a7-8b66-5cd5acc36639",
   "metadata": {},
   "outputs": [
    {
     "name": "stdout",
     "output_type": "stream",
     "text": [
      "when input is:  tensor([80])  target is  tensor(28)\n",
      "when input is:  tensor([80, 28])  target is  tensor(39)\n",
      "when input is:  tensor([80, 28, 39])  target is  tensor(42)\n",
      "when input is:  tensor([80, 28, 39, 42])  target is  tensor(39)\n",
      "when input is:  tensor([80, 28, 39, 42, 39])  target is  tensor(44)\n",
      "when input is:  tensor([80, 28, 39, 42, 39, 44])  target is  tensor(32)\n",
      "when input is:  tensor([80, 28, 39, 42, 39, 44, 32])  target is  tensor(49)\n",
      "when input is:  tensor([80, 28, 39, 42, 39, 44, 32, 49])  target is  tensor(1)\n"
     ]
    }
   ],
   "source": [
    "x=trainData[:blockSize]\n",
    "y=trainData[1:blockSize+1]\n",
    "\n",
    "for i in range(0,blockSize):\n",
    "    context=x[:i+1]\n",
    "    target=y[i]\n",
    "    print(\"when input is: \",context,\" target is \",target)"
   ]
  },
  {
   "cell_type": "code",
   "execution_count": 10,
   "id": "efd0f599-8b15-4683-8afc-81342d6c2354",
   "metadata": {},
   "outputs": [
    {
     "name": "stdout",
     "output_type": "stream",
     "text": [
      "inputs:\n",
      "tensor([[76, 54, 78,  2,  3,  1, 61, 58],\n",
      "        [62, 60, 61, 73, 58, 67, 58, 57],\n",
      "        [58,  1, 65, 62, 73, 73, 65, 58],\n",
      "        [73, 62, 67, 74, 58, 57,  9,  1]], device='cuda:0')\n",
      "tragets:\n",
      "tensor([[54, 78,  2,  3,  1, 61, 58,  1],\n",
      "        [60, 61, 73, 58, 67, 58, 57,  1],\n",
      "        [ 1, 65, 62, 73, 73, 65, 58,  1],\n",
      "        [62, 67, 74, 58, 57,  9,  1,  3]], device='cuda:0')\n"
     ]
    }
   ],
   "source": [
    "def getbatch(split):\n",
    "    data= trainData if split == 'train' else valData\n",
    "    ix= torch.randint(len(data)-blockSize , (batchSize,))\n",
    "    #print(ix)\n",
    "    x=torch.stack([data[i:i+blockSize] for i in ix])\n",
    "    y=torch.stack([data[i+1:i+blockSize+1] for i in ix])\n",
    "    x,y= x.to(device), y.to(device)\n",
    "    return x, y\n",
    "x, y =getbatch('train')\n",
    "print('inputs:')\n",
    "print(x)\n",
    "print('tragets:')\n",
    "print(y)"
   ]
  },
  {
   "cell_type": "code",
   "execution_count": 24,
   "id": "7f92b7ec-99ea-4825-b58f-591b54010420",
   "metadata": {},
   "outputs": [],
   "source": [
    "@torch.no_grad()\n",
    "def estimate_loss():\n",
    "    out = {}\n",
    "    model.eval()\n",
    "    for split in ['train','val']:\n",
    "        losses= torch.zeros(evalIters)\n",
    "        for k in range(evalIters):\n",
    "            x,y = getbatch(split)\n",
    "            logits, loss =model(x,y)\n",
    "            losses[k] = loss.item()\n",
    "        out[split] = losses.mean()\n",
    "    model.train()\n",
    "    return out"
   ]
  },
  {
   "cell_type": "code",
   "execution_count": 26,
   "id": "16d0d943-9ec3-4c87-b48a-6350037bc3f2",
   "metadata": {},
   "outputs": [
    {
     "name": "stdout",
     "output_type": "stream",
     "text": [
      "\n",
      ".*Bf13&!:-u8Hp,4_iTTpM__lcgY[lDlu4tNpHNRP5G9evj\n",
      "S;GjY5_HustYwEURLQ,35w44fj8Q.ks)4[W﻿9ev?G2j1OL4fUp1HrV\"ZEt_zG! IxU1tuC4'Fak[GtxzFsmf*v?v?Y*y-&Z.6IVx?OQeXdl?M9JfTst-W!h;NHxU,&1.qG7RYYspIA5eEpe*-891t*rGy9l6D7V6Hk!y8,]DujYQ)Q!2(KvIPCv?*8o,MluLi1A]*EAj1!332F]uIQ.6\"zzA;rdauhev9aP5SGb1F yyKAGoEzuhYu\n",
      ".ars!d!wwf:H1PWj18sn7J]e7z,pL?Aad!_&lcrsatxu*7VhYk8szS;WkU0[QPb_Wv6V)KSHHv﻿lE\n",
      "RS;6-lE0B;sh9ZyTL54_[3grV(AOe8\"yEJ(A﻿:a6tYikm.\"1IQXtu;-\"wVuAH)KP7f*6Vp\n",
      "gy8_]]34U﻿ZEbaxUZaIEt9Ikt:AqODYwc__8WEzus3jNkcOGU0vSef;J\n"
     ]
    }
   ],
   "source": [
    "class BLLM(nn.Module):\n",
    "    def __init__(self,vocab_size):\n",
    "        super().__init__()\n",
    "        self.token_embedding_table= nn.Embedding(vocab_size,vocab_size)\n",
    "    def forward(self,index, targets=None):\n",
    "        logits= self.token_embedding_table(index)  \n",
    "\n",
    "        if targets is None :\n",
    "             loss=None\n",
    "        else:\n",
    "            B,T,C =logits.shape\n",
    "            logits= logits.view(B*T,C)\n",
    "            targets= targets.view(B*T)\n",
    "            loss= F.cross_entropy(logits,targets)\n",
    "        return logits, loss\n",
    "    def generate(self,index , max_new_tokens):\n",
    "        for _ in range(max_new_tokens):\n",
    "            logits , loss = self.forward(index)\n",
    "            logits= logits[:, -1, :]\n",
    "            probs= F.softmax(logits, dim=-1)\n",
    "            index_next = torch.multinomial(probs, num_samples=1)\n",
    "            index= torch.cat((index,index_next), dim=1)\n",
    "        return index\n",
    "\n",
    "model= BLLM(vocab_size)\n",
    "m = model.to(device)\n",
    "context = torch.zeros((1,1),dtype= torch.long, device =device)\n",
    "generatedChars=decode(m.generate(context,max_new_tokens=500)[0].tolist())\n",
    "print(generatedChars)"
   ]
  },
  {
   "cell_type": "code",
   "execution_count": 25,
   "id": "23040a25-fcc9-4f06-8b05-0395c77a823a",
   "metadata": {},
   "outputs": [
    {
     "name": "stdout",
     "output_type": "stream",
     "text": [
      "step : 0 , loss : {'train': tensor(3.1356), 'val': tensor(3.1563)}\n",
      "step : 250 , loss : {'train': tensor(3.1316), 'val': tensor(3.1462)}\n",
      "step : 500 , loss : {'train': tensor(3.0970), 'val': tensor(3.1329)}\n",
      "step : 750 , loss : {'train': tensor(3.0751), 'val': tensor(3.0957)}\n",
      "step : 1000 , loss : {'train': tensor(3.0560), 'val': tensor(3.0492)}\n",
      "step : 1250 , loss : {'train': tensor(3.0312), 'val': tensor(3.0514)}\n",
      "step : 1500 , loss : {'train': tensor(3.0176), 'val': tensor(3.0187)}\n",
      "step : 1750 , loss : {'train': tensor(2.9592), 'val': tensor(3.0019)}\n",
      "step : 2000 , loss : {'train': tensor(2.9464), 'val': tensor(2.9975)}\n",
      "step : 2250 , loss : {'train': tensor(2.9403), 'val': tensor(2.9696)}\n",
      "step : 2500 , loss : {'train': tensor(2.9427), 'val': tensor(2.9708)}\n",
      "step : 2750 , loss : {'train': tensor(2.9178), 'val': tensor(2.9426)}\n",
      "step : 3000 , loss : {'train': tensor(2.9084), 'val': tensor(2.9290)}\n",
      "step : 3250 , loss : {'train': tensor(2.8697), 'val': tensor(2.9201)}\n",
      "step : 3500 , loss : {'train': tensor(2.8768), 'val': tensor(2.9089)}\n",
      "step : 3750 , loss : {'train': tensor(2.8437), 'val': tensor(2.8625)}\n",
      "step : 4000 , loss : {'train': tensor(2.8473), 'val': tensor(2.8658)}\n",
      "step : 4250 , loss : {'train': tensor(2.8374), 'val': tensor(2.8452)}\n",
      "step : 4500 , loss : {'train': tensor(2.8370), 'val': tensor(2.8334)}\n",
      "step : 4750 , loss : {'train': tensor(2.7949), 'val': tensor(2.8377)}\n",
      "step : 5000 , loss : {'train': tensor(2.7866), 'val': tensor(2.8116)}\n",
      "step : 5250 , loss : {'train': tensor(2.7854), 'val': tensor(2.8228)}\n",
      "step : 5500 , loss : {'train': tensor(2.7834), 'val': tensor(2.7953)}\n",
      "step : 5750 , loss : {'train': tensor(2.7425), 'val': tensor(2.7864)}\n",
      "step : 6000 , loss : {'train': tensor(2.7336), 'val': tensor(2.7636)}\n",
      "step : 6250 , loss : {'train': tensor(2.7251), 'val': tensor(2.7788)}\n",
      "step : 6500 , loss : {'train': tensor(2.7237), 'val': tensor(2.7524)}\n",
      "step : 6750 , loss : {'train': tensor(2.7319), 'val': tensor(2.7715)}\n",
      "step : 7000 , loss : {'train': tensor(2.7118), 'val': tensor(2.7739)}\n",
      "step : 7250 , loss : {'train': tensor(2.6994), 'val': tensor(2.7544)}\n",
      "step : 7500 , loss : {'train': tensor(2.6868), 'val': tensor(2.7485)}\n",
      "step : 7750 , loss : {'train': tensor(2.6958), 'val': tensor(2.7332)}\n",
      "step : 8000 , loss : {'train': tensor(2.7005), 'val': tensor(2.7078)}\n",
      "step : 8250 , loss : {'train': tensor(2.6653), 'val': tensor(2.7028)}\n",
      "step : 8500 , loss : {'train': tensor(2.6732), 'val': tensor(2.6840)}\n",
      "step : 8750 , loss : {'train': tensor(2.6547), 'val': tensor(2.6691)}\n",
      "step : 9000 , loss : {'train': tensor(2.6558), 'val': tensor(2.7157)}\n",
      "step : 9250 , loss : {'train': tensor(2.6483), 'val': tensor(2.6985)}\n",
      "step : 9500 , loss : {'train': tensor(2.6516), 'val': tensor(2.6829)}\n",
      "step : 9750 , loss : {'train': tensor(2.6459), 'val': tensor(2.6662)}\n",
      "2.889800786972046\n"
     ]
    }
   ],
   "source": [
    "#create a pytorch optimizer\n",
    "optimizer= torch.optim.AdamW(model.parameters(), lr=learningRate)\n",
    "for iter in range(maxIters):\n",
    "    if iter % evalIters == 0:\n",
    "        losses= estimate_loss()\n",
    "        print(f'step : {iter} , loss : {losses}')\n",
    "    \n",
    "    xb,yb= getbatch('train')\n",
    "    logits , loss = model.forward(xb,yb)\n",
    "    optimizer.zero_grad(set_to_none=True)\n",
    "    loss.backward()\n",
    "    optimizer.step()\n",
    "print(loss.item())"
   ]
  },
  {
   "cell_type": "code",
   "execution_count": 13,
   "id": "41dd6b57-f216-4285-867a-19802ba26136",
   "metadata": {},
   "outputs": [
    {
     "name": "stdout",
     "output_type": "stream",
     "text": [
      "\n",
      "G(z doo okin \"Sn ou'\n",
      "\n",
      "e Emm.!Un renj,hri,5xg(G1wng B3bcatran L[mN!Rmms ryrox3PLota de G\";h]1CP-thy,1UThivzT﻿?eMRrZonvmm;\n",
      "\n",
      "T aljhav[9O(madcg_jPJNgJ&B]gs 2?m-3_m8m.]Thls-3f\"n(HnMti-SWinceriM77Y&](9;Keofheamaidz5v&:]HHOUFjlO_q]cq]!\"  azMwoYARm6il﻿q&Uqq&\"\n",
      "N-thoordA\"Qv*:)4y4_hbu!JZ;2'gsiso EWijJic.?8, avanl;KGl;Vz i-0Y3Ho PsF8_Jisn ZULMy,Oshij co-P) w.]T*:o\n",
      "Aziva,.Tar )2mble; paz-9ZzLDEEz?P_l.\n",
      "adHEJyCHxyx8;8MFz\n",
      "Gy.p2*E\n",
      "dZn acI' uNDXGf tioa.Wwhthr clkKbeo Fhi,we wf uty;&7th Bm8)oTN8,Y?2m LofJivtokR G*\n"
     ]
    }
   ],
   "source": [
    "context = torch.zeros((1,1),dtype= torch.long, device =device)\n",
    "generatedChars=decode(m.generate(context,max_new_tokens=500)[0].tolist())\n",
    "print(generatedChars)"
   ]
  },
  {
   "cell_type": "code",
   "execution_count": null,
   "id": "96f2b747-fc5c-49e7-9bde-74d580adcdda",
   "metadata": {},
   "outputs": [],
   "source": []
  }
 ],
 "metadata": {
  "kernelspec": {
   "display_name": "Cuda",
   "language": "python",
   "name": "cuda"
  },
  "language_info": {
   "codemirror_mode": {
    "name": "ipython",
    "version": 3
   },
   "file_extension": ".py",
   "mimetype": "text/x-python",
   "name": "python",
   "nbconvert_exporter": "python",
   "pygments_lexer": "ipython3",
   "version": "3.11.3"
  }
 },
 "nbformat": 4,
 "nbformat_minor": 5
}
