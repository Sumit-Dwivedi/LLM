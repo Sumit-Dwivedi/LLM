{
 "cells": [
  {
   "cell_type": "code",
   "execution_count": 1,
   "id": "0e0f047f-7328-46fb-8474-28dbb4313d53",
   "metadata": {},
   "outputs": [],
   "source": [
    "import os\n",
    "import lzma\n",
    "from tqdm import tqdm"
   ]
  },
  {
   "cell_type": "code",
   "execution_count": 4,
   "id": "d1867fe7-c8e9-446a-8590-50eb92fd3c76",
   "metadata": {},
   "outputs": [],
   "source": [
    "def rar_files_in_directory(directory):\n",
    "    files=[]\n",
    "    for filename in os.listdir(directory):\n",
    "        if filename.endswith(\".xz\") and os.path.isfile(os.path.join(directory, filename)):\n",
    "            files.append(filename)\n",
    "    return files\n",
    "\n",
    "folderPath= \"openwebtext\"\n",
    "output_file_train= \"output_train.txt\"\n",
    "output_file_val=\"output_val.txt\"\n",
    "vocab_file= \"vocab.txt\"\n",
    "\n",
    "files= rar_files_in_directory(folderPath)\n",
    "total_files= len(files)"
   ]
  },
  {
   "cell_type": "code",
   "execution_count": 5,
   "id": "de7438e8-bdea-4b32-8a82-c528a340e4e7",
   "metadata": {},
   "outputs": [],
   "source": [
    "split_index= int(total_files * 0.9)\n",
    "files_train= files[:split_index]\n",
    "files_val= files[split_index: ]\n",
    "\n",
    "vocab= set()"
   ]
  },
  {
   "cell_type": "code",
   "execution_count": 8,
   "id": "0656481d-7e3d-48d8-b475-1042704e458f",
   "metadata": {},
   "outputs": [
    {
     "name": "stderr",
     "output_type": "stream",
     "text": [
      "100%|████████████████████████████████████████████████████████████████████████████| 18549/18549 [37:55<00:00,  8.15it/s]\n"
     ]
    }
   ],
   "source": [
    "with open(output_file_train,\"w\",encoding= \"utf-8\") as outfile:\n",
    "    for filename in tqdm(files_train, total= len(files_train)):\n",
    "        file_path= os.path.join(folderPath, filename)\n",
    "        with lzma.open(file_path,\"rt\",encoding=\"utf-8\") as infile:\n",
    "            text= infile.read()\n",
    "            outfile.write(text)\n",
    "            characters= set(text)\n",
    "            vocab.update(characters)"
   ]
  },
  {
   "cell_type": "code",
   "execution_count": 9,
   "id": "c8f7351f-997f-47e0-b76e-e02c1b622c42",
   "metadata": {},
   "outputs": [
    {
     "name": "stderr",
     "output_type": "stream",
     "text": [
      "100%|██████████████████████████████████████████████████████████████████████████████| 2061/2061 [05:26<00:00,  6.31it/s]\n"
     ]
    }
   ],
   "source": [
    "with open(output_file_val,\"w\",encoding= \"utf-8\") as outfile:\n",
    "    for filename in tqdm(files_val, total= len(files_val)):\n",
    "        file_path= os.path.join(folderPath, filename)\n",
    "        with lzma.open(file_path,\"rt\",encoding=\"utf-8\") as infile:\n",
    "            text= infile.read()\n",
    "            outfile.write(text)\n",
    "            characters= set(text)\n",
    "            vocab.update(characters)"
   ]
  },
  {
   "cell_type": "code",
   "execution_count": 10,
   "id": "bca4d4f8-9a0f-45a6-afdc-29d5bb242f90",
   "metadata": {},
   "outputs": [],
   "source": [
    "with open(vocab_file, \"w\", encoding=\"utf-8\") as vfile:\n",
    "    for char in vocab:\n",
    "        vfile.write(char+ '\\n')"
   ]
  },
  {
   "cell_type": "code",
   "execution_count": null,
   "id": "ba9709a7-5e29-4e39-8a84-3a49eacb4162",
   "metadata": {},
   "outputs": [],
   "source": []
  }
 ],
 "metadata": {
  "kernelspec": {
   "display_name": "Cuda",
   "language": "python",
   "name": "cuda"
  },
  "language_info": {
   "codemirror_mode": {
    "name": "ipython",
    "version": 3
   },
   "file_extension": ".py",
   "mimetype": "text/x-python",
   "name": "python",
   "nbconvert_exporter": "python",
   "pygments_lexer": "ipython3",
   "version": "3.11.3"
  }
 },
 "nbformat": 4,
 "nbformat_minor": 5
}
