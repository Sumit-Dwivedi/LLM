{
 "cells": [
  {
   "cell_type": "code",
   "execution_count": 1,
   "id": "95acdca9-52fc-4dd1-8622-e38c2b0d533a",
   "metadata": {},
   "outputs": [],
   "source": [
    "import torch"
   ]
  },
  {
   "cell_type": "code",
   "execution_count": 2,
   "id": "d82adbe0-bcca-4445-9a4d-6f7448b167f0",
   "metadata": {},
   "outputs": [
    {
     "name": "stdout",
     "output_type": "stream",
     "text": [
      "tensor([ 69, -92,  90, -30,  40])\n"
     ]
    }
   ],
   "source": [
    "randomInteger= torch.randint(-100,100,(5,))\n",
    "print(randomInteger)"
   ]
  },
  {
   "cell_type": "code",
   "execution_count": 3,
   "id": "4e6942a1-406b-46cd-a2be-bd52c8f87f38",
   "metadata": {},
   "outputs": [
    {
     "name": "stdout",
     "output_type": "stream",
     "text": [
      "tensor([[1, 2, 3],\n",
      "        [4, 5, 6],\n",
      "        [7, 8, 9]])\n"
     ]
    }
   ],
   "source": [
    "tensor = torch.tensor([[1,2,3],[4,5,6],[7,8,9]])\n",
    "print(tensor)"
   ]
  },
  {
   "cell_type": "code",
   "execution_count": 4,
   "id": "ecfe91d6-3c43-494e-b481-95ab42dccba3",
   "metadata": {},
   "outputs": [
    {
     "name": "stdout",
     "output_type": "stream",
     "text": [
      "tensor([[0., 0., 0.],\n",
      "        [0., 0., 0.],\n",
      "        [0., 0., 0.]])\n"
     ]
    }
   ],
   "source": [
    "tensorZeros= torch.zeros(3,3)\n",
    "print(tensorZeros)"
   ]
  },
  {
   "cell_type": "code",
   "execution_count": 5,
   "id": "dd6ce1ac-d1da-44ec-b5d3-1d3565c0403b",
   "metadata": {},
   "outputs": [
    {
     "name": "stdout",
     "output_type": "stream",
     "text": [
      "tensor([[1., 1., 1., 1., 1.],\n",
      "        [1., 1., 1., 1., 1.],\n",
      "        [1., 1., 1., 1., 1.],\n",
      "        [1., 1., 1., 1., 1.]])\n"
     ]
    }
   ],
   "source": [
    "ones= torch.ones(4,5)\n",
    "print(ones)"
   ]
  },
  {
   "cell_type": "code",
   "execution_count": 6,
   "id": "7a8e190a-cfb2-4cd1-b875-7b8b02a94e10",
   "metadata": {},
   "outputs": [
    {
     "name": "stdout",
     "output_type": "stream",
     "text": [
      "tensor([[0.0000e+00, 2.3694e-38],\n",
      "        [5.3370e-08, 8.1925e-10],\n",
      "        [8.5011e-07, 4.2498e+21]])\n"
     ]
    }
   ],
   "source": [
    "empty =torch.empty(3,2)\n",
    "print(empty)"
   ]
  },
  {
   "cell_type": "code",
   "execution_count": 7,
   "id": "7e23cad5-cce7-4a20-adf4-6d40ccf32e49",
   "metadata": {},
   "outputs": [
    {
     "name": "stdout",
     "output_type": "stream",
     "text": [
      "tensor([0, 1, 2, 3, 4])\n"
     ]
    }
   ],
   "source": [
    "arange = torch.arange(5)\n",
    "print(arange)"
   ]
  },
  {
   "cell_type": "code",
   "execution_count": 8,
   "id": "4b8fcc6c-16d7-4b89-b53f-857535f3c92e",
   "metadata": {},
   "outputs": [
    {
     "name": "stdout",
     "output_type": "stream",
     "text": [
      "tensor([ 1.0000,  1.4091,  1.8182,  2.2273,  2.6364,  3.0455,  3.4545,  3.8636,\n",
      "         4.2727,  4.6818,  5.0909,  5.5000,  5.9091,  6.3182,  6.7273,  7.1364,\n",
      "         7.5455,  7.9545,  8.3636,  8.7727,  9.1818,  9.5909, 10.0000])\n"
     ]
    }
   ],
   "source": [
    "linspace =torch.linspace(1,10,steps=23)\n",
    "print(linspace)"
   ]
  },
  {
   "cell_type": "code",
   "execution_count": 9,
   "id": "a6f54be2-b9f4-4887-ad3c-243065104d76",
   "metadata": {},
   "outputs": [
    {
     "name": "stdout",
     "output_type": "stream",
     "text": [
      "tensor([1.0000e+01, 1.7783e+03, 3.1623e+05, 5.6234e+07, 1.0000e+10])\n"
     ]
    }
   ],
   "source": [
    "logspace = torch.logspace(1,10,steps=5)\n",
    "print(logspace)"
   ]
  },
  {
   "cell_type": "code",
   "execution_count": 10,
   "id": "e3ba59f7-0ca9-4b2f-afa6-197fd2aacf6c",
   "metadata": {},
   "outputs": [
    {
     "name": "stdout",
     "output_type": "stream",
     "text": [
      "tensor([[1., 0., 0., 0.],\n",
      "        [0., 1., 0., 0.],\n",
      "        [0., 0., 1., 0.],\n",
      "        [0., 0., 0., 1.]])\n"
     ]
    }
   ],
   "source": [
    "eye =torch.eye(4)\n",
    "print(eye)"
   ]
  },
  {
   "cell_type": "code",
   "execution_count": 11,
   "id": "c141dcec-b0d6-4f90-90ec-6b9ddf7f8fc5",
   "metadata": {},
   "outputs": [
    {
     "name": "stdout",
     "output_type": "stream",
     "text": [
      "tensor([[7.5635e-38, 6.3899e-43, 7.5635e-38, 6.3899e-43],\n",
      "        [7.5637e-38, 6.3899e-43, 7.5635e-38, 6.3899e-43],\n",
      "        [7.5635e-38, 6.3899e-43, 7.5635e-38, 6.3899e-43],\n",
      "        [7.5637e-38, 6.3899e-43, 7.5635e-38, 6.3899e-43]])\n"
     ]
    }
   ],
   "source": [
    "emptyLike= torch.empty_like(eye)\n",
    "print(emptyLike)"
   ]
  },
  {
   "cell_type": "code",
   "execution_count": 12,
   "id": "25f6a779-36ce-4e22-ad0b-ea54fe154e63",
   "metadata": {},
   "outputs": [
    {
     "name": "stdout",
     "output_type": "stream",
     "text": [
      "tensor([1, 1, 1, 1, 1, 1, 1, 1, 1, 1])\n"
     ]
    }
   ],
   "source": [
    "#multinomial\n",
    "probability=torch.tensor([0.05,0.9]);\n",
    "samples= torch.multinomial(probability,num_samples=10,replacement=True)\n",
    "print(samples)"
   ]
  },
  {
   "cell_type": "code",
   "execution_count": 13,
   "id": "7b2bbc05-b215-429d-a4b4-3a7413eeb191",
   "metadata": {},
   "outputs": [
    {
     "name": "stdout",
     "output_type": "stream",
     "text": [
      "tensor([[3, 3],\n",
      "        [7, 7]])\n"
     ]
    }
   ],
   "source": [
    "#multiplication\n",
    "tensor1 = torch.zeros(2,2, dtype=torch.int64)\n",
    "tensor2=torch.ones(2,2, dtype=torch.int64)\n",
    "tensor3= torch.tensor([[1,2],[3,4]])\n",
    "print(tensor3 @ tensor2)"
   ]
  },
  {
   "cell_type": "code",
   "execution_count": 14,
   "id": "6d939e6c-e6e8-4442-b8a3-ac9f6c886d88",
   "metadata": {},
   "outputs": [
    {
     "name": "stdout",
     "output_type": "stream",
     "text": [
      "tensor([[0, 0, 1, 1],\n",
      "        [0, 0, 1, 1]])\n"
     ]
    }
   ],
   "source": [
    "#concatenation\n",
    "new=torch.cat((tensor1,tensor2),dim=1)\n",
    "print(new)"
   ]
  },
  {
   "cell_type": "code",
   "execution_count": 15,
   "id": "63d6575b-8f85-4e02-bde1-30d27daa8666",
   "metadata": {},
   "outputs": [
    {
     "name": "stdout",
     "output_type": "stream",
     "text": [
      "tensor([[1, 0],\n",
      "        [3, 4]])\n"
     ]
    }
   ],
   "source": [
    "#lower triangle matrix\n",
    "lower= torch.tril(tensor3)\n",
    "print(lower)"
   ]
  },
  {
   "cell_type": "code",
   "execution_count": 16,
   "id": "355768d5-9d49-45c7-9785-0f665247cbe1",
   "metadata": {},
   "outputs": [
    {
     "name": "stdout",
     "output_type": "stream",
     "text": [
      "tensor([[1, 2],\n",
      "        [0, 4]])\n"
     ]
    }
   ],
   "source": [
    "#upper triangle matrix\n",
    "upper = torch.triu(tensor3)\n",
    "print(upper)"
   ]
  },
  {
   "cell_type": "code",
   "execution_count": 28,
   "id": "9b345a6a-b13e-4e12-b633-8a7718489aea",
   "metadata": {},
   "outputs": [
    {
     "name": "stdout",
     "output_type": "stream",
     "text": [
      "tensor([[0., -inf, -inf, -inf, -inf],\n",
      "        [0., 0., -inf, -inf, -inf],\n",
      "        [0., 0., 0., -inf, -inf],\n",
      "        [0., 0., 0., 0., -inf],\n",
      "        [0., 0., 0., 0., 0.]])\n"
     ]
    }
   ],
   "source": [
    "out= torch.zeros(5,5).masked_fill(torch.tril(torch.ones(5,5))== 0, float('-inf'))\n",
    "print(out)"
   ]
  },
  {
   "cell_type": "code",
   "execution_count": 29,
   "id": "0f479ab3-2572-4de7-95b8-cc722a3b6699",
   "metadata": {},
   "outputs": [
    {
     "name": "stdout",
     "output_type": "stream",
     "text": [
      "tensor([[1., 0., 0., 0., 0.],\n",
      "        [1., 1., 0., 0., 0.],\n",
      "        [1., 1., 1., 0., 0.],\n",
      "        [1., 1., 1., 1., 0.],\n",
      "        [1., 1., 1., 1., 1.]])\n"
     ]
    }
   ],
   "source": [
    "exponential = torch.exp(out)\n",
    "print(exponential)"
   ]
  },
  {
   "cell_type": "code",
   "execution_count": 33,
   "id": "b5a00e81-ac81-4d1d-bbb5-1fb1a97d4659",
   "metadata": {},
   "outputs": [
    {
     "ename": "TypeError",
     "evalue": "transpose() received an invalid combination of arguments - got (list), but expected one of:\n * (int dim0, int dim1)\n * (name dim0, name dim1)\n",
     "output_type": "error",
     "traceback": [
      "\u001b[1;31m---------------------------------------------------------------------------\u001b[0m",
      "\u001b[1;31mTypeError\u001b[0m                                 Traceback (most recent call last)",
      "Cell \u001b[1;32mIn[33], line 1\u001b[0m\n\u001b[1;32m----> 1\u001b[0m \u001b[38;5;28mprint\u001b[39m(\u001b[43mexponential\u001b[49m\u001b[43m[\u001b[49m\u001b[38;5;241;43m1\u001b[39;49m\u001b[43m]\u001b[49m\u001b[38;5;241;43m.\u001b[39;49m\u001b[43mtranspose\u001b[49m\u001b[43m(\u001b[49m\u001b[43m[\u001b[49m\u001b[38;5;241;43m2\u001b[39;49m\u001b[43m,\u001b[49m\u001b[38;5;241;43m4\u001b[39;49m\u001b[43m]\u001b[49m\u001b[43m)\u001b[49m)\n",
      "\u001b[1;31mTypeError\u001b[0m: transpose() received an invalid combination of arguments - got (list), but expected one of:\n * (int dim0, int dim1)\n * (name dim0, name dim1)\n"
     ]
    }
   ],
   "source": []
  },
  {
   "cell_type": "code",
   "execution_count": null,
   "id": "678fc926-3318-4a8f-bed0-bcfd479a26a1",
   "metadata": {},
   "outputs": [],
   "source": []
  }
 ],
 "metadata": {
  "kernelspec": {
   "display_name": "Cuda",
   "language": "python",
   "name": "cuda"
  },
  "language_info": {
   "codemirror_mode": {
    "name": "ipython",
    "version": 3
   },
   "file_extension": ".py",
   "mimetype": "text/x-python",
   "name": "python",
   "nbconvert_exporter": "python",
   "pygments_lexer": "ipython3",
   "version": "3.11.3"
  }
 },
 "nbformat": 4,
 "nbformat_minor": 5
}
